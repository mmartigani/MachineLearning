{
  "nbformat": 4,
  "nbformat_minor": 0,
  "metadata": {
    "colab": {
      "name": "Redes_Neuronales_Convolucionales.ipynb",
      "provenance": [],
      "collapsed_sections": [],
      "mount_file_id": "1RXYXD8Rs72HeUPBVqqJ5K1CD3uwZU6bc",
      "authorship_tag": "ABX9TyMisrU2fpA57qBo+vCGLjEV",
      "include_colab_link": true
    },
    "kernelspec": {
      "name": "python3",
      "display_name": "Python 3"
    },
    "language_info": {
      "name": "python"
    }
  },
  "cells": [
    {
      "cell_type": "markdown",
      "metadata": {
        "id": "view-in-github",
        "colab_type": "text"
      },
      "source": [
        "<a href=\"https://colab.research.google.com/github/mmartigani/MachineLearning/blob/main/Redes_Neuronales_Convolucionales.ipynb\" target=\"_parent\"><img src=\"https://colab.research.google.com/assets/colab-badge.svg\" alt=\"Open In Colab\"/></a>"
      ]
    },
    {
      "cell_type": "code",
      "execution_count": null,
      "metadata": {
        "id": "VCv6DIS9V7cv"
      },
      "outputs": [],
      "source": [
        "from keras.models import Sequential     #inicializar las capas \n",
        "from keras.layers import Conv2D         #crea una capa de convolucion en 2d\n",
        "from keras.layers import MaxPooling2D   #imagen a 3 colores \n",
        "from keras.layers import Flatten        #aplanado y se convierte en un vector grande \n",
        "from keras.layers import Dense          #"
      ]
    },
    {
      "cell_type": "code",
      "source": [
        "# Inicializar la CNN\n",
        "classifier = Sequential()"
      ],
      "metadata": {
        "id": "4UzMvMufW6UP"
      },
      "execution_count": null,
      "outputs": []
    },
    {
      "cell_type": "code",
      "source": [
        "# Paso 1 - Convolución\n",
        "classifier.add(Conv2D(filters = 32,kernel_size = (3, 3), \n",
        "                      input_shape = (64, 64, 3), activation = \"relu\"))\n",
        "#filters=filtros para crear los detectores de rasgos\n",
        "#matrix de 3,3 kernel size\n",
        "#activacion relu elimina la no linealidad "
      ],
      "metadata": {
        "id": "xRcrjci0W_xv"
      },
      "execution_count": null,
      "outputs": []
    },
    {
      "cell_type": "code",
      "source": [
        "# Paso 2 - Max Pooling\n",
        "classifier.add(MaxPooling2D(pool_size = (2,2)))"
      ],
      "metadata": {
        "id": "VigDyC39W_nv"
      },
      "execution_count": null,
      "outputs": []
    },
    {
      "cell_type": "code",
      "source": [
        "# Una segunda capa de convolución y max pooling\n",
        "classifier.add(Conv2D(filters = 32,kernel_size = (3, 3), activation = \"relu\"))\n",
        "\n",
        "classifier.add(MaxPooling2D(pool_size = (2,2)))"
      ],
      "metadata": {
        "id": "-l_Et1HHW_e4"
      },
      "execution_count": null,
      "outputs": []
    },
    {
      "cell_type": "code",
      "source": [
        "#maxpoooling2d\n",
        "#esto nos permite que la red neuronal aprenda transformaciones, escalados de imagenes"
      ],
      "metadata": {
        "id": "I25MwxsbYour"
      },
      "execution_count": null,
      "outputs": []
    },
    {
      "cell_type": "code",
      "source": [
        "# Paso 3 - Flattening\n",
        "classifier.add(Flatten())"
      ],
      "metadata": {
        "id": "i-u62Oi_Yor8"
      },
      "execution_count": null,
      "outputs": []
    },
    {
      "cell_type": "code",
      "source": [
        "# Paso 4 - Full Connection\n",
        "classifier.add(Dense(units = 128, activation = \"relu\")) \n",
        "classifier.add(Dense(units = 1, activation = \"sigmoid\"))  "
      ],
      "metadata": {
        "id": "uWSoZhNVYopH"
      },
      "execution_count": null,
      "outputs": []
    },
    {
      "cell_type": "code",
      "source": [
        "# Compilar la CNN\n",
        "classifier.compile(optimizer = \"adam\", loss = \"binary_crossentropy\", metrics = [\"accuracy\"])\n",
        "#metodo de adam \n",
        "#loss funcion de perdidas entropia binaria \n",
        "#mtrics =precision (accuracy)"
      ],
      "metadata": {
        "id": "q1jGCVnKYomM"
      },
      "execution_count": null,
      "outputs": []
    },
    {
      "cell_type": "code",
      "source": [
        "# Parte 2 - Ajustar la CNN a las imágenes para entrenar \n",
        "from keras.preprocessing.image import ImageDataGenerator\n",
        "train_datagen = ImageDataGenerator(\n",
        "        rescale=1./255,\n",
        "        shear_range=0.2,\n",
        "        zoom_range=0.2,\n",
        "        horizontal_flip=True)\n",
        "\n",
        "test_datagen = ImageDataGenerator(rescale=1./255)\n",
        "training_dataset = train_datagen.flow_from_directory('drive/MyDrive/training_set',\n",
        "                                                    target_size=(64, 64),\n",
        "                                                    batch_size=32,\n",
        "                                                    class_mode='binary')\n",
        "\n",
        "testing_dataset = test_datagen.flow_from_directory('drive/MyDrive/test_set',\n",
        "                                                target_size=(64, 64),\n",
        "                                                batch_size=32,\n",
        "                                                class_mode='binary')\n",
        "\n",
        "classifier.fit_generator(training_dataset,\n",
        "                        steps_per_epoch=8000,\n",
        "                        epochs=25,\n",
        "                        validation_data=testing_dataset,\n",
        "                        validation_steps=2000)\n"
      ],
      "metadata": {
        "colab": {
          "base_uri": "https://localhost:8080/"
        },
        "id": "yPOWNQUsYodn",
        "outputId": "3dd0e98d-e814-40f4-9b3b-9b4a3937a005"
      },
      "execution_count": null,
      "outputs": [
        {
          "output_type": "stream",
          "name": "stdout",
          "text": [
            "Found 8000 images belonging to 2 classes.\n",
            "Found 2000 images belonging to 2 classes.\n"
          ]
        },
        {
          "output_type": "stream",
          "name": "stderr",
          "text": [
            "/usr/local/lib/python3.7/dist-packages/ipykernel_launcher.py:24: UserWarning: `Model.fit_generator` is deprecated and will be removed in a future version. Please use `Model.fit`, which supports generators.\n"
          ]
        },
        {
          "output_type": "stream",
          "name": "stdout",
          "text": [
            "Epoch 1/25\n",
            " 250/8000 [..............................] - ETA: 9:36:48 - loss: 0.7990 - accuracy: 2.5000e-04WARNING:tensorflow:Your input ran out of data; interrupting training. Make sure that your dataset or generator can generate at least `steps_per_epoch * epochs` batches (in this case, 200000 batches). You may need to use the repeat() function when building your dataset.\n",
            "WARNING:tensorflow:Your input ran out of data; interrupting training. Make sure that your dataset or generator can generate at least `steps_per_epoch * epochs` batches (in this case, 2000 batches). You may need to use the repeat() function when building your dataset.\n",
            "8000/8000 [==============================] - 1693s 210ms/step - loss: 0.7990 - accuracy: 2.5000e-04 - val_loss: 0.6973 - val_accuracy: 0.0000e+00\n"
          ]
        },
        {
          "output_type": "execute_result",
          "data": {
            "text/plain": [
              "<keras.callbacks.History at 0x7fd5fdaee1d0>"
            ]
          },
          "metadata": {},
          "execution_count": 29
        }
      ]
    }
  ]
}